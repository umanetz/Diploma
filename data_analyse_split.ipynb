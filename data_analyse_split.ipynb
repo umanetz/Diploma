{
 "cells": [
  {
   "cell_type": "code",
   "execution_count": 1,
   "metadata": {},
   "outputs": [],
   "source": [
    "import numpy as np\n",
    "import pandas as pd\n",
    "from tqdm import tqdm_notebook as tqdm\n",
    "from itertools import combinations\n",
    "import collections\n",
    "\n",
    "import matplotlib.pyplot as plt\n",
    "import seaborn as sns\n",
    "import os"
   ]
  },
  {
   "cell_type": "code",
   "execution_count": 2,
   "metadata": {},
   "outputs": [
    {
     "name": "stderr",
     "output_type": "stream",
     "text": [
      "I0509 15:35:45.648100 139755243960128 file_utils.py:41] PyTorch version 1.2.0 available.\n"
     ]
    }
   ],
   "source": [
    "from transformers import BertForSequenceClassification, BertModel, BertTokenizer\n",
    "from torch.utils.data import Dataset, DataLoader\n",
    "import torch\n",
    "from torch import nn\n",
    "from torch import optim"
   ]
  },
  {
   "cell_type": "code",
   "execution_count": 3,
   "metadata": {},
   "outputs": [],
   "source": [
    "DATA_FILE = './files/data/processed_08_04.npy'"
   ]
  },
  {
   "cell_type": "markdown",
   "metadata": {},
   "source": [
    "### Обработка данных"
   ]
  },
  {
   "cell_type": "code",
   "execution_count": 4,
   "metadata": {},
   "outputs": [
    {
     "name": "stdout",
     "output_type": "stream",
     "text": [
      "Кол-во примеров: 147636, кол-во классов 291\n"
     ]
    }
   ],
   "source": [
    "data = pd.DataFrame(np.load(DATA_FILE), columns=['y','words','text_y'])\n",
    "print(f'Кол-во примеров: {data.shape[0]}, кол-во классов {len(set(data[\"y\"]))}') \n"
   ]
  },
  {
   "cell_type": "markdown",
   "metadata": {},
   "source": [
    "**1) Удаляем дубликаты**  \n"
   ]
  },
  {
   "cell_type": "code",
   "execution_count": 5,
   "metadata": {},
   "outputs": [
    {
     "name": "stdout",
     "output_type": "stream",
     "text": [
      "Top 15 классов\n"
     ]
    },
    {
     "data": {
      "text/plain": [
       "15     10761\n",
       "12      8873\n",
       "9       8173\n",
       "14      8118\n",
       "271     5778\n",
       "20      5392\n",
       "16      5099\n",
       "2       4369\n",
       "6       4239\n",
       "7       4239\n",
       "1       3914\n",
       "22      3410\n",
       "21      3209\n",
       "11      3101\n",
       "48      2785\n",
       "Name: y, dtype: int64"
      ]
     },
     "execution_count": 5,
     "metadata": {},
     "output_type": "execute_result"
    }
   ],
   "source": [
    "data['sentence'] = data['words'].apply(lambda x: ' '.join(x))\n",
    "data = data.drop_duplicates(subset=['sentence','y'])\n",
    "print('Top 15 классов')\n",
    "class_count = data['y'].value_counts()\n",
    "class_count[:15]  "
   ]
  },
  {
   "cell_type": "markdown",
   "metadata": {},
   "source": [
    "**2) Удаляем примеры нулевой длины**  \n"
   ]
  },
  {
   "cell_type": "code",
   "execution_count": 6,
   "metadata": {},
   "outputs": [
    {
     "name": "stdout",
     "output_type": "stream",
     "text": [
      "кол-во предложений с длиной 0: 12\n"
     ]
    }
   ],
   "source": [
    "print(f\"кол-во предложений с длиной 0: {data['words'].apply(lambda x: len(x)==0).sum()}\")\n",
    "data = data[data['words'].apply(lambda x: len(x) > 0)]"
   ]
  },
  {
   "cell_type": "markdown",
   "metadata": {},
   "source": [
    "Заметим, что предложения не уникальны. Одно и тоже предложение может принадлежать разным классам.\n",
    "\n"
   ]
  },
  {
   "cell_type": "code",
   "execution_count": 7,
   "metadata": {
    "scrolled": false
   },
   "outputs": [
    {
     "name": "stdout",
     "output_type": "stream",
     "text": [
      "Кол-во уникальных предложений: 94595\n",
      "Какое кол-во разных классов может приходится на 1 предложение\n"
     ]
    },
    {
     "data": {
      "text/plain": [
       "1     71601\n",
       "2     10128\n",
       "3      4942\n",
       "4      4048\n",
       "5      2132\n",
       "6       996\n",
       "7       471\n",
       "8       154\n",
       "9        60\n",
       "10       47\n",
       "12        6\n",
       "11        4\n",
       "21        2\n",
       "13        1\n",
       "66        1\n",
       "19        1\n",
       "22        1\n",
       "dtype: int64"
      ]
     },
     "execution_count": 7,
     "metadata": {},
     "output_type": "execute_result"
    }
   ],
   "source": [
    "print(f\"Кол-во уникальных предложений: {len(data['sentence'].unique())}\")\n",
    "print('Какое кол-во разных классов может приходится на 1 предложение')\n",
    "x = data.groupby('sentence')['y'].apply(lambda x: len(set(x)))\n",
    "pd.value_counts(x.values)"
   ]
  },
  {
   "cell_type": "markdown",
   "metadata": {},
   "source": [
    "Видно, что больше 20К предложений имеют 2 и более класса. Удалим примеры с 6 и более классами. "
   ]
  },
  {
   "cell_type": "code",
   "execution_count": 8,
   "metadata": {},
   "outputs": [],
   "source": [
    "sentence_target = data.groupby(['sentence'])['y'].apply(lambda x: list(set(x))).reset_index()\n",
    "sentence_target = sentence_target[sentence_target['y'].apply(lambda x: len(x) < 6)]"
   ]
  },
  {
   "cell_type": "markdown",
   "metadata": {},
   "source": [
    "**4) Если одно предложение относится к разным классам, то выбираем наиболее популярный класс**"
   ]
  },
  {
   "cell_type": "code",
   "execution_count": 9,
   "metadata": {},
   "outputs": [
    {
     "data": {
      "text/html": [
       "<div>\n",
       "<style scoped>\n",
       "    .dataframe tbody tr th:only-of-type {\n",
       "        vertical-align: middle;\n",
       "    }\n",
       "\n",
       "    .dataframe tbody tr th {\n",
       "        vertical-align: top;\n",
       "    }\n",
       "\n",
       "    .dataframe thead th {\n",
       "        text-align: right;\n",
       "    }\n",
       "</style>\n",
       "<table border=\"1\" class=\"dataframe\">\n",
       "  <thead>\n",
       "    <tr style=\"text-align: right;\">\n",
       "      <th></th>\n",
       "      <th>sentence</th>\n",
       "      <th>y</th>\n",
       "      <th>true_y</th>\n",
       "    </tr>\n",
       "  </thead>\n",
       "  <tbody>\n",
       "    <tr>\n",
       "      <th>0</th>\n",
       "      <td>action plans mis отсутствовать возможность вно...</td>\n",
       "      <td>[153]</td>\n",
       "      <td>153</td>\n",
       "    </tr>\n",
       "    <tr>\n",
       "      <th>1</th>\n",
       "      <td>android телефон клиент подвергнуться мошенниче...</td>\n",
       "      <td>[51]</td>\n",
       "      <td>51</td>\n",
       "    </tr>\n",
       "    <tr>\n",
       "      <th>2</th>\n",
       "      <td>aс екс кредитный договор автоматический режим ...</td>\n",
       "      <td>[48, 50, 124]</td>\n",
       "      <td>48</td>\n",
       "    </tr>\n",
       "    <tr>\n",
       "      <th>3</th>\n",
       "      <td>bankhelper представлять трудность однозначно в...</td>\n",
       "      <td>[48]</td>\n",
       "      <td>48</td>\n",
       "    </tr>\n",
       "    <tr>\n",
       "      <th>4</th>\n",
       "      <td>cccp tomsk mail ru просить скорректировать рол...</td>\n",
       "      <td>[1]</td>\n",
       "      <td>1</td>\n",
       "    </tr>\n",
       "  </tbody>\n",
       "</table>\n",
       "</div>"
      ],
      "text/plain": [
       "                                            sentence              y  true_y\n",
       "0  action plans mis отсутствовать возможность вно...          [153]     153\n",
       "1  android телефон клиент подвергнуться мошенниче...           [51]      51\n",
       "2  aс екс кредитный договор автоматический режим ...  [48, 50, 124]      48\n",
       "3  bankhelper представлять трудность однозначно в...           [48]      48\n",
       "4  cccp tomsk mail ru просить скорректировать рол...            [1]       1"
      ]
     },
     "execution_count": 9,
     "metadata": {},
     "output_type": "execute_result"
    }
   ],
   "source": [
    "sentence_target['true_y'] = sentence_target['y'].apply(lambda x: class_count.loc[x].sort_values().index[-1] \n",
    "                                                       if len(x) > 1 else x[0])\n",
    "sentence_target.head()"
   ]
  },
  {
   "cell_type": "markdown",
   "metadata": {},
   "source": [
    "**5) Все классы с кол-вом примеров меньше 200 объединим в один класс.** "
   ]
  },
  {
   "cell_type": "code",
   "execution_count": 10,
   "metadata": {},
   "outputs": [
    {
     "name": "stdout",
     "output_type": "stream",
     "text": [
      "Всего классов: 287, кол-во класов с меньше 200 примерами 208\n",
      "Доля примеров, которые объединяются в 1 класс 0.09543246707089853\n"
     ]
    }
   ],
   "source": [
    "class_count = sentence_target['true_y'].value_counts()\n",
    "rare_calsses = class_count.index[class_count < 200]\n",
    "print(f'Всего классов: {class_count.shape[0]}, кол-во класов с меньше 200 примерами {rare_calsses.shape[0]}')\n",
    "print('Доля примеров, которые объединяются в 1 класс',\n",
    "      class_count[class_count < 200].sum() / sum(class_count))"
   ]
  },
  {
   "cell_type": "code",
   "execution_count": 11,
   "metadata": {
    "scrolled": true
   },
   "outputs": [
    {
     "data": {
      "text/html": [
       "<div>\n",
       "<style scoped>\n",
       "    .dataframe tbody tr th:only-of-type {\n",
       "        vertical-align: middle;\n",
       "    }\n",
       "\n",
       "    .dataframe tbody tr th {\n",
       "        vertical-align: top;\n",
       "    }\n",
       "\n",
       "    .dataframe thead th {\n",
       "        text-align: right;\n",
       "    }\n",
       "</style>\n",
       "<table border=\"1\" class=\"dataframe\">\n",
       "  <thead>\n",
       "    <tr style=\"text-align: right;\">\n",
       "      <th></th>\n",
       "      <th>sentence</th>\n",
       "      <th>y</th>\n",
       "      <th>true_y</th>\n",
       "      <th>common_y</th>\n",
       "    </tr>\n",
       "  </thead>\n",
       "  <tbody>\n",
       "    <tr>\n",
       "      <th>0</th>\n",
       "      <td>action plans mis отсутствовать возможность вно...</td>\n",
       "      <td>[153]</td>\n",
       "      <td>153</td>\n",
       "      <td>-1</td>\n",
       "    </tr>\n",
       "    <tr>\n",
       "      <th>1</th>\n",
       "      <td>android телефон клиент подвергнуться мошенниче...</td>\n",
       "      <td>[51]</td>\n",
       "      <td>51</td>\n",
       "      <td>-1</td>\n",
       "    </tr>\n",
       "    <tr>\n",
       "      <th>2</th>\n",
       "      <td>aс екс кредитный договор автоматический режим ...</td>\n",
       "      <td>[48, 50, 124]</td>\n",
       "      <td>48</td>\n",
       "      <td>48</td>\n",
       "    </tr>\n",
       "    <tr>\n",
       "      <th>3</th>\n",
       "      <td>bankhelper представлять трудность однозначно в...</td>\n",
       "      <td>[48]</td>\n",
       "      <td>48</td>\n",
       "      <td>48</td>\n",
       "    </tr>\n",
       "    <tr>\n",
       "      <th>4</th>\n",
       "      <td>cccp tomsk mail ru просить скорректировать рол...</td>\n",
       "      <td>[1]</td>\n",
       "      <td>1</td>\n",
       "      <td>1</td>\n",
       "    </tr>\n",
       "  </tbody>\n",
       "</table>\n",
       "</div>"
      ],
      "text/plain": [
       "                                            sentence              y  true_y  \\\n",
       "0  action plans mis отсутствовать возможность вно...          [153]     153   \n",
       "1  android телефон клиент подвергнуться мошенниче...           [51]      51   \n",
       "2  aс екс кредитный договор автоматический режим ...  [48, 50, 124]      48   \n",
       "3  bankhelper представлять трудность однозначно в...           [48]      48   \n",
       "4  cccp tomsk mail ru просить скорректировать рол...            [1]       1   \n",
       "\n",
       "   common_y  \n",
       "0        -1  \n",
       "1        -1  \n",
       "2        48  \n",
       "3        48  \n",
       "4         1  "
      ]
     },
     "execution_count": 11,
     "metadata": {},
     "output_type": "execute_result"
    }
   ],
   "source": [
    "sentence_target['common_y'] = sentence_target['true_y'].apply(lambda x: -1 if x in rare_calsses else x)\n",
    "sentence_target.head()"
   ]
  },
  {
   "cell_type": "markdown",
   "metadata": {},
   "source": [
    "### Определяем максимальную длину последовательности"
   ]
  },
  {
   "cell_type": "code",
   "execution_count": 12,
   "metadata": {
    "scrolled": true
   },
   "outputs": [
    {
     "data": {
      "image/png": "[encoded data removed]",
      "text/plain": [
       "<Figure size 576x288 with 1 Axes>"
      ]
     },
     "metadata": {
      "needs_background": "light"
     },
     "output_type": "display_data"
    }
   ],
   "source": [
    "sent_len = []\n",
    "for sample in (sentence_target['sentence']):\n",
    "    sent_len.append(len(sample.split()))\n",
    "sent_len = np.array(sent_len)\n",
    "\n",
    "plt.figure(figsize=(8, 4))\n",
    "plt.hist(np.log10(sent_len[sent_len!=0]));\n",
    "# plt.xticks(range(7), [int(np.exp(i)) for i in range(7)]);\n",
    "plt.xticks([0, 1, 2, 3], ['$10^0$', '$10^1$','$10^2$', '$10^3$']);\n",
    "\n",
    "# # plt.title('Длина текста (в словах)')\n",
    "#  log = True\n",
    "# plt.hist(sent_len[sent_len!=0], bins=20);\n",
    "# plt.xscale('log')\n"
   ]
  },
  {
   "cell_type": "code",
   "execution_count": 13,
   "metadata": {},
   "outputs": [
    {
     "name": "stdout",
     "output_type": "stream",
     "text": [
      "98% примеров имеют длину текста <= 100 + 2 токена для начала и конца\n"
     ]
    }
   ],
   "source": [
    "print(f'98% примеров имеют длину текста <= {np.percentile(sent_len, 98):.0f} + 2 токена для начала и конца')"
   ]
  },
  {
   "cell_type": "code",
   "execution_count": 14,
   "metadata": {},
   "outputs": [],
   "source": [
    "MAX_LEN = 102"
   ]
  },
  {
   "cell_type": "markdown",
   "metadata": {},
   "source": [
    "### Поделим на Train, Dev, Test"
   ]
  },
  {
   "cell_type": "code",
   "execution_count": 15,
   "metadata": {},
   "outputs": [],
   "source": [
    "from sklearn.model_selection import train_test_split"
   ]
  },
  {
   "cell_type": "code",
   "execution_count": 16,
   "metadata": {
    "scrolled": true
   },
   "outputs": [
    {
     "name": "stdout",
     "output_type": "stream",
     "text": [
      "(55710, 4) (18570, 4) (18571, 4)\n"
     ]
    }
   ],
   "source": [
    "strat = sentence_target['common_y'].values\n",
    "train_data, test_data = train_test_split(sentence_target, test_size=0.4, random_state=42, stratify=strat)\n",
    "test_data, dev_data = train_test_split(test_data, test_size=0.5, random_state=42)\n",
    "\n",
    "print(train_data.shape, test_data.shape, dev_data.shape)"
   ]
  },
  {
   "cell_type": "markdown",
   "metadata": {},
   "source": [
    "**Все классы переводим в диапазон от 0 до кол-ва классов**"
   ]
  },
  {
   "cell_type": "code",
   "execution_count": 17,
   "metadata": {},
   "outputs": [
    {
     "name": "stdout",
     "output_type": "stream",
     "text": [
      "Кол-во классов 80\n"
     ]
    }
   ],
   "source": [
    "target_mapping = pd.value_counts(train_data['common_y'])\n",
    "target_mapping = dict(zip(target_mapping.index, range(len(target_mapping))))\n",
    "num_classes = len(target_mapping)\n",
    "print('Кол-во классов', num_classes)\n"
   ]
  },
  {
   "cell_type": "code",
   "execution_count": 18,
   "metadata": {
    "scrolled": true
   },
   "outputs": [
    {
     "name": "stderr",
     "output_type": "stream",
     "text": [
      "/home/kate/anaconda3/lib/python3.7/site-packages/ipykernel_launcher.py:1: SettingWithCopyWarning: \n",
      "A value is trying to be set on a copy of a slice from a DataFrame.\n",
      "Try using .loc[row_indexer,col_indexer] = value instead\n",
      "\n",
      "See the caveats in the documentation: http://pandas.pydata.org/pandas-docs/stable/indexing.html#indexing-view-versus-copy\n",
      "  \"\"\"Entry point for launching an IPython kernel.\n"
     ]
    }
   ],
   "source": [
    "train_data['target'] = train_data['common_y'].apply(lambda x: target_mapping[x])\n",
    "test_data['target'] = test_data['common_y'].apply(lambda x: target_mapping[x])\n",
    "dev_data['target'] = dev_data['common_y'].apply(lambda x: target_mapping[x])\n"
   ]
  },
  {
   "cell_type": "code",
   "execution_count": 19,
   "metadata": {},
   "outputs": [
    {
     "name": "stderr",
     "output_type": "stream",
     "text": [
      "/home/kate/anaconda3/lib/python3.7/site-packages/ipykernel_launcher.py:1: SettingWithCopyWarning: \n",
      "A value is trying to be set on a copy of a slice from a DataFrame.\n",
      "Try using .loc[row_indexer,col_indexer] = value instead\n",
      "\n",
      "See the caveats in the documentation: http://pandas.pydata.org/pandas-docs/stable/indexing.html#indexing-view-versus-copy\n",
      "  \"\"\"Entry point for launching an IPython kernel.\n"
     ]
    },
    {
     "data": {
      "text/html": [
       "<div>\n",
       "<style scoped>\n",
       "    .dataframe tbody tr th:only-of-type {\n",
       "        vertical-align: middle;\n",
       "    }\n",
       "\n",
       "    .dataframe tbody tr th {\n",
       "        vertical-align: top;\n",
       "    }\n",
       "\n",
       "    .dataframe thead th {\n",
       "        text-align: right;\n",
       "    }\n",
       "</style>\n",
       "<table border=\"1\" class=\"dataframe\">\n",
       "  <thead>\n",
       "    <tr style=\"text-align: right;\">\n",
       "      <th></th>\n",
       "      <th>sentence</th>\n",
       "      <th>y</th>\n",
       "      <th>true_y</th>\n",
       "      <th>common_y</th>\n",
       "      <th>target</th>\n",
       "      <th>id</th>\n",
       "    </tr>\n",
       "  </thead>\n",
       "  <tbody>\n",
       "    <tr>\n",
       "      <th>19958</th>\n",
       "      <td>заявка возвратить доработка следующий причина ...</td>\n",
       "      <td>[14]</td>\n",
       "      <td>14</td>\n",
       "      <td>14</td>\n",
       "      <td>3</td>\n",
       "      <td>0</td>\n",
       "    </tr>\n",
       "    <tr>\n",
       "      <th>38980</th>\n",
       "      <td>клиент обратиться уточнение информация защита ...</td>\n",
       "      <td>[271]</td>\n",
       "      <td>271</td>\n",
       "      <td>271</td>\n",
       "      <td>2</td>\n",
       "      <td>1</td>\n",
       "    </tr>\n",
       "    <tr>\n",
       "      <th>28</th>\n",
       "      <td>cлучай отсутствие резервный копия криптоключ у...</td>\n",
       "      <td>[67]</td>\n",
       "      <td>67</td>\n",
       "      <td>67</td>\n",
       "      <td>56</td>\n",
       "      <td>2</td>\n",
       "    </tr>\n",
       "    <tr>\n",
       "      <th>22256</th>\n",
       "      <td>заявка возвратить доработка следующий причина ...</td>\n",
       "      <td>[14]</td>\n",
       "      <td>14</td>\n",
       "      <td>14</td>\n",
       "      <td>3</td>\n",
       "      <td>3</td>\n",
       "    </tr>\n",
       "    <tr>\n",
       "      <th>75734</th>\n",
       "      <td>расхождение мпп мотивационный калькулятор</td>\n",
       "      <td>[41]</td>\n",
       "      <td>41</td>\n",
       "      <td>41</td>\n",
       "      <td>10</td>\n",
       "      <td>4</td>\n",
       "    </tr>\n",
       "  </tbody>\n",
       "</table>\n",
       "</div>"
      ],
      "text/plain": [
       "                                                sentence      y  true_y  \\\n",
       "19958  заявка возвратить доработка следующий причина ...   [14]      14   \n",
       "38980  клиент обратиться уточнение информация защита ...  [271]     271   \n",
       "28     cлучай отсутствие резервный копия криптоключ у...   [67]      67   \n",
       "22256  заявка возвратить доработка следующий причина ...   [14]      14   \n",
       "75734          расхождение мпп мотивационный калькулятор   [41]      41   \n",
       "\n",
       "       common_y  target  id  \n",
       "19958        14       3   0  \n",
       "38980       271       2   1  \n",
       "28           67      56   2  \n",
       "22256        14       3   3  \n",
       "75734        41      10   4  "
      ]
     },
     "execution_count": 19,
     "metadata": {},
     "output_type": "execute_result"
    }
   ],
   "source": [
    "train_data['id'] = np.arange(len(train_data))\n",
    "test_data['id'] = np.arange(len(test_data))\n",
    "dev_data['id'] = np.arange(len(dev_data))\n",
    "\n",
    "train_data.head()"
   ]
  },
  {
   "cell_type": "markdown",
   "metadata": {},
   "source": [
    "### Формирование выборок для LSTM"
   ]
  },
  {
   "cell_type": "markdown",
   "metadata": {},
   "source": [
    "Сохраняем преобразованные в набор индексов предложения train, test, dev в папку 'files/data/tokens/'"
   ]
  },
  {
   "cell_type": "code",
   "execution_count": 20,
   "metadata": {},
   "outputs": [],
   "source": [
    "def _build_vocab(data):\n",
    "    counter = collections.Counter()\n",
    "    for sample in data['sentence']:\n",
    "        counter.update(collections.Counter(sample.split()))\n",
    "    count_pairs = sorted(counter.items(), key=lambda x: (-x[1], x[0]))\n",
    "\n",
    "    words, _ = list(zip(*count_pairs))\n",
    "    word_to_id = dict(zip(words, range(1, len(words)+1)))\n",
    "    word_to_id['PAD'] = 0\n",
    "    return word_to_id"
   ]
  },
  {
   "cell_type": "code",
   "execution_count": 21,
   "metadata": {},
   "outputs": [],
   "source": [
    "word_to_id = _build_vocab(train_data)"
   ]
  },
  {
   "cell_type": "code",
   "execution_count": 22,
   "metadata": {},
   "outputs": [],
   "source": [
    "def split_by_tokens(data, word_to_id):\n",
    "    data_tokens = []\n",
    "    targets = []\n",
    "    idx = []\n",
    "    \n",
    "    for i, sample in data.iterrows():\n",
    "        sent = sample['sentence']\n",
    "        target = sample['target']\n",
    "        idx.append(sample['id'])\n",
    "        tokens = [word_to_id[x] for x in sent.split() if x in word_to_id][:MAX_LEN]\n",
    "        tokens = tokens + [word_to_id['PAD']] * (MAX_LEN - len(tokens))\n",
    "        \n",
    "        data_tokens.append(tokens)\n",
    "        targets.append(target)\n",
    "    df = pd.DataFrame(data_tokens)    \n",
    "    df['target'] = targets\n",
    "    df['id'] = idx\n",
    "    return df"
   ]
  },
  {
   "cell_type": "code",
   "execution_count": 23,
   "metadata": {
    "scrolled": true
   },
   "outputs": [],
   "source": [
    "tokens_train = split_by_tokens(train_data, word_to_id)\n",
    "tokens_test = split_by_tokens(test_data, word_to_id)\n",
    "tokens_dev = split_by_tokens(dev_data, word_to_id)"
   ]
  },
  {
   "cell_type": "code",
   "execution_count": 24,
   "metadata": {},
   "outputs": [
    {
     "data": {
      "text/html": [
       "<div>\n",
       "<style scoped>\n",
       "    .dataframe tbody tr th:only-of-type {\n",
       "        vertical-align: middle;\n",
       "    }\n",
       "\n",
       "    .dataframe tbody tr th {\n",
       "        vertical-align: top;\n",
       "    }\n",
       "\n",
       "    .dataframe thead th {\n",
       "        text-align: right;\n",
       "    }\n",
       "</style>\n",
       "<table border=\"1\" class=\"dataframe\">\n",
       "  <thead>\n",
       "    <tr style=\"text-align: right;\">\n",
       "      <th></th>\n",
       "      <th>0</th>\n",
       "      <th>1</th>\n",
       "      <th>2</th>\n",
       "      <th>3</th>\n",
       "      <th>4</th>\n",
       "      <th>5</th>\n",
       "      <th>6</th>\n",
       "      <th>7</th>\n",
       "      <th>8</th>\n",
       "      <th>9</th>\n",
       "      <th>...</th>\n",
       "      <th>94</th>\n",
       "      <th>95</th>\n",
       "      <th>96</th>\n",
       "      <th>97</th>\n",
       "      <th>98</th>\n",
       "      <th>99</th>\n",
       "      <th>100</th>\n",
       "      <th>101</th>\n",
       "      <th>target</th>\n",
       "      <th>id</th>\n",
       "    </tr>\n",
       "  </thead>\n",
       "  <tbody>\n",
       "    <tr>\n",
       "      <th>0</th>\n",
       "      <td>2</td>\n",
       "      <td>21</td>\n",
       "      <td>20</td>\n",
       "      <td>16</td>\n",
       "      <td>9</td>\n",
       "      <td>218</td>\n",
       "      <td>73</td>\n",
       "      <td>6</td>\n",
       "      <td>80</td>\n",
       "      <td>25547</td>\n",
       "      <td>...</td>\n",
       "      <td>0</td>\n",
       "      <td>0</td>\n",
       "      <td>0</td>\n",
       "      <td>0</td>\n",
       "      <td>0</td>\n",
       "      <td>0</td>\n",
       "      <td>0</td>\n",
       "      <td>0</td>\n",
       "      <td>3</td>\n",
       "      <td>0</td>\n",
       "    </tr>\n",
       "    <tr>\n",
       "      <th>1</th>\n",
       "      <td>1</td>\n",
       "      <td>32</td>\n",
       "      <td>225</td>\n",
       "      <td>13</td>\n",
       "      <td>924</td>\n",
       "      <td>441</td>\n",
       "      <td>7</td>\n",
       "      <td>418</td>\n",
       "      <td>1247</td>\n",
       "      <td>26</td>\n",
       "      <td>...</td>\n",
       "      <td>0</td>\n",
       "      <td>0</td>\n",
       "      <td>0</td>\n",
       "      <td>0</td>\n",
       "      <td>0</td>\n",
       "      <td>0</td>\n",
       "      <td>0</td>\n",
       "      <td>0</td>\n",
       "      <td>2</td>\n",
       "      <td>1</td>\n",
       "    </tr>\n",
       "  </tbody>\n",
       "</table>\n",
       "<p>2 rows × 104 columns</p>\n",
       "</div>"
      ],
      "text/plain": [
       "   0   1    2   3    4    5   6    7     8      9  ...  94  95  96  97  98  \\\n",
       "0  2  21   20  16    9  218  73    6    80  25547  ...   0   0   0   0   0   \n",
       "1  1  32  225  13  924  441   7  418  1247     26  ...   0   0   0   0   0   \n",
       "\n",
       "   99  100  101  target  id  \n",
       "0   0    0    0       3   0  \n",
       "1   0    0    0       2   1  \n",
       "\n",
       "[2 rows x 104 columns]"
      ]
     },
     "execution_count": 24,
     "metadata": {},
     "output_type": "execute_result"
    }
   ],
   "source": [
    "tokens_train.head(2)"
   ]
  },
  {
   "cell_type": "code",
   "execution_count": 25,
   "metadata": {},
   "outputs": [],
   "source": [
    "data_path = 'files/data/'\n",
    "lstm_data_path = data_path + 'tokens/'\n",
    "\n",
    "os.makedirs(lstm_data_path, exist_ok=True)\n"
   ]
  },
  {
   "cell_type": "code",
   "execution_count": 26,
   "metadata": {},
   "outputs": [],
   "source": [
    "tokens_train.to_csv(lstm_data_path + 'tokens_train.csv', index=False)\n",
    "tokens_test.to_csv(lstm_data_path + 'tokens_test.csv', index=False)\n",
    "tokens_dev.to_csv(lstm_data_path + 'tokens_dev.csv', index=False)"
   ]
  },
  {
   "cell_type": "code",
   "execution_count": 27,
   "metadata": {},
   "outputs": [],
   "source": [
    "import json\n",
    "json.dump(word_to_id, open(data_path + 'word_to_id.json', 'w'))"
   ]
  },
  {
   "cell_type": "markdown",
   "metadata": {},
   "source": [
    "### Формирование выборок для Bert"
   ]
  },
  {
   "cell_type": "markdown",
   "metadata": {},
   "source": [
    "Каждое предложение токенизируем с помощью BertTokenizer, заполняем 0 до максимальной длинны, считаем маску и сохраняем в 'files/data/bert_data/'"
   ]
  },
  {
   "cell_type": "code",
   "execution_count": 28,
   "metadata": {},
   "outputs": [],
   "source": [
    "from transformers import BertForSequenceClassification, BertModel, BertTokenizer\n"
   ]
  },
  {
   "cell_type": "code",
   "execution_count": 29,
   "metadata": {},
   "outputs": [
    {
     "name": "stderr",
     "output_type": "stream",
     "text": [
      "I0509 15:36:30.532302 139755243960128 tokenization_utils.py:420] Model name './files/bert/rubert_cased_L-12_H-768_A-12_pt/' not found in model shortcut name list (bert-base-uncased, bert-large-uncased, bert-base-cased, bert-large-cased, bert-base-multilingual-uncased, bert-base-multilingual-cased, bert-base-chinese, bert-base-german-cased, bert-large-uncased-whole-word-masking, bert-large-cased-whole-word-masking, bert-large-uncased-whole-word-masking-finetuned-squad, bert-large-cased-whole-word-masking-finetuned-squad, bert-base-cased-finetuned-mrpc, bert-base-german-dbmdz-cased, bert-base-german-dbmdz-uncased, bert-base-finnish-cased-v1, bert-base-finnish-uncased-v1, bert-base-dutch-cased). Assuming './files/bert/rubert_cased_L-12_H-768_A-12_pt/' is a path, a model identifier, or url to a directory containing tokenizer files.\n",
      "I0509 15:36:30.533077 139755243960128 tokenization_utils.py:449] Didn't find file ./files/bert/rubert_cased_L-12_H-768_A-12_pt/added_tokens.json. We won't load it.\n",
      "I0509 15:36:30.533645 139755243960128 tokenization_utils.py:449] Didn't find file ./files/bert/rubert_cased_L-12_H-768_A-12_pt/special_tokens_map.json. We won't load it.\n",
      "I0509 15:36:30.534165 139755243960128 tokenization_utils.py:449] Didn't find file ./files/bert/rubert_cased_L-12_H-768_A-12_pt/tokenizer_config.json. We won't load it.\n",
      "I0509 15:36:30.534579 139755243960128 tokenization_utils.py:502] loading file ./files/bert/rubert_cased_L-12_H-768_A-12_pt/vocab.txt\n",
      "I0509 15:36:30.534919 139755243960128 tokenization_utils.py:502] loading file None\n",
      "I0509 15:36:30.535295 139755243960128 tokenization_utils.py:502] loading file None\n",
      "I0509 15:36:30.535601 139755243960128 tokenization_utils.py:502] loading file None\n"
     ]
    }
   ],
   "source": [
    "BERT_PATH = './files/bert/rubert_cased_L-12_H-768_A-12_pt/'\n",
    "tokenizer = BertTokenizer.from_pretrained(BERT_PATH)\n"
   ]
  },
  {
   "cell_type": "code",
   "execution_count": 30,
   "metadata": {},
   "outputs": [],
   "source": [
    "def make_dataset_bert(data):\n",
    "    ids_target = []\n",
    "    for i, sample in data.iterrows():\n",
    "        sent = sample['sentence']\n",
    "        t = sample['target']\n",
    "        encoded_dict = tokenizer.encode_plus(\n",
    "                        sent,                      # Sentence to encode.\n",
    "                        add_special_tokens = True, # Add '[CLS]' and '[SEP]'\n",
    "                        max_length = MAX_LEN,           # Pad & truncate all sentences.\n",
    "                        pad_to_max_length = True,\n",
    "                        return_attention_mask = True,   # Construct attn. masks.\n",
    "                        return_tensors = 'pt',     # Return pytorch tensors.\n",
    "                   )\n",
    "        encoded_dict['input_ids'] = encoded_dict['input_ids'][0]\n",
    "        encoded_dict['token_type_ids'] = encoded_dict['token_type_ids'][0]\n",
    "        encoded_dict['attention_mask'] = encoded_dict['attention_mask'][0]\n",
    "        \n",
    "        sample_info = {'sent': sent,\n",
    "                       'data': encoded_dict,\n",
    "                        'target' : t,\n",
    "                      'id': sample['id']}\n",
    "        ids_target.append(sample_info)\n",
    "    return ids_target"
   ]
  },
  {
   "cell_type": "code",
   "execution_count": 31,
   "metadata": {},
   "outputs": [],
   "source": [
    "bert_data_train = make_dataset_bert(train_data)\n",
    "bert_data_test = make_dataset_bert(test_data)\n",
    "bert_data_dev = make_dataset_bert(dev_data)"
   ]
  },
  {
   "cell_type": "code",
   "execution_count": 32,
   "metadata": {},
   "outputs": [],
   "source": [
    "bert_data_path = data_path + 'bert_data/'\n",
    "os.makedirs(bert_data_path, exist_ok=True)\n"
   ]
  },
  {
   "cell_type": "code",
   "execution_count": 33,
   "metadata": {},
   "outputs": [],
   "source": [
    "np.save(bert_data_path + 'train.npy', bert_data_train)\n",
    "np.save(bert_data_path + 'test.npy', bert_data_test)\n",
    "np.save(bert_data_path + 'dev.npy', bert_data_dev)"
   ]
  },
  {
   "cell_type": "code",
   "execution_count": null,
   "metadata": {},
   "outputs": [],
   "source": []
  }
 ],
 "metadata": {
  "kernelspec": {
   "display_name": "Python 3",
   "language": "python",
   "name": "python3"
  },
  "language_info": {
   "codemirror_mode": {
    "name": "ipython",
    "version": 3
   },
   "file_extension": ".py",
   "mimetype": "text/x-python",
   "name": "python",
   "nbconvert_exporter": "python",
   "pygments_lexer": "ipython3",
   "version": "3.7.3"
  }
 },
 "nbformat": 4,
 "nbformat_minor": 2
}
